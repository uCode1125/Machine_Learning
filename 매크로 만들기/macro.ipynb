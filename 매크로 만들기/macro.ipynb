{
 "cells": [
  {
   "cell_type": "code",
   "execution_count": 8,
   "metadata": {},
   "outputs": [
    {
     "name": "stdout",
     "output_type": "stream",
     "text": [
      "Requirement already satisfied: pyautogui in c:\\anaconda3\\lib\\site-packages (0.9.54)Note: you may need to restart the kernel to use updated packages.\n",
      "\n",
      "Requirement already satisfied: pymsgbox in c:\\anaconda3\\lib\\site-packages (from pyautogui) (1.0.9)\n",
      "Requirement already satisfied: pytweening>=1.0.4 in c:\\anaconda3\\lib\\site-packages (from pyautogui) (1.2.0)\n",
      "Requirement already satisfied: pyscreeze>=0.1.21 in c:\\anaconda3\\lib\\site-packages (from pyautogui) (1.0.1)\n",
      "Requirement already satisfied: pygetwindow>=0.0.5 in c:\\anaconda3\\lib\\site-packages (from pyautogui) (0.0.9)\n",
      "Requirement already satisfied: mouseinfo in c:\\anaconda3\\lib\\site-packages (from pyautogui) (0.1.3)\n",
      "Requirement already satisfied: pyrect in c:\\anaconda3\\lib\\site-packages (from pygetwindow>=0.0.5->pyautogui) (0.2.0)\n",
      "Requirement already satisfied: pyperclip in c:\\anaconda3\\lib\\site-packages (from mouseinfo->pyautogui) (1.9.0)\n"
     ]
    }
   ],
   "source": [
    "pip install pyautogui"
   ]
  },
  {
   "cell_type": "code",
   "execution_count": 21,
   "metadata": {},
   "outputs": [
    {
     "name": "stdout",
     "output_type": "stream",
     "text": [
      "Collecting mouse\n",
      "  Downloading mouse-0.7.1-py2.py3-none-any.whl.metadata (2.5 kB)\n",
      "Downloading mouse-0.7.1-py2.py3-none-any.whl (16 kB)\n",
      "Installing collected packages: mouse\n",
      "Successfully installed mouse-0.7.1\n",
      "Note: you may need to restart the kernel to use updated packages.\n"
     ]
    }
   ],
   "source": [
    "pip install mouse"
   ]
  },
  {
   "cell_type": "code",
   "execution_count": 44,
   "metadata": {},
   "outputs": [],
   "source": [
    "import pyautogui as pag\n",
    "import keyboard\n",
    "import time"
   ]
  },
  {
   "cell_type": "code",
   "execution_count": 47,
   "metadata": {},
   "outputs": [],
   "source": [
    "my_id=\"starwars071125@gmail.com\"\n",
    "my_pw=\"uzune@071125@\""
   ]
  },
  {
   "cell_type": "code",
   "execution_count": 51,
   "metadata": {},
   "outputs": [
    {
     "name": "stdout",
     "output_type": "stream",
     "text": [
      "Point(x=3076, y=410)\n",
      "Point(x=2521, y=323)\n",
      "Point(x=2495, y=418)\n",
      "Point(x=2663, y=554)\n"
     ]
    },
    {
     "ename": "KeyboardInterrupt",
     "evalue": "",
     "output_type": "error",
     "traceback": [
      "\u001b[1;31m---------------------------------------------------------------------------\u001b[0m",
      "\u001b[1;31mKeyboardInterrupt\u001b[0m                         Traceback (most recent call last)",
      "Cell \u001b[1;32mIn[51], line 4\u001b[0m\n\u001b[0;32m      2\u001b[0m \u001b[38;5;28;01mwhile\u001b[39;00m \u001b[38;5;28;01mTrue\u001b[39;00m:   \n\u001b[0;32m      3\u001b[0m     \u001b[38;5;28;01mwhile\u001b[39;00m \u001b[38;5;28;01mTrue\u001b[39;00m:\n\u001b[1;32m----> 4\u001b[0m         \u001b[38;5;28;01mif\u001b[39;00m keyboard\u001b[38;5;241m.\u001b[39mis_pressed(\u001b[38;5;124m'\u001b[39m\u001b[38;5;124mF3\u001b[39m\u001b[38;5;124m'\u001b[39m): \n\u001b[0;32m      5\u001b[0m             pos \u001b[38;5;241m=\u001b[39m pag\u001b[38;5;241m.\u001b[39mposition()\n\u001b[0;32m      6\u001b[0m             pos_list\u001b[38;5;241m.\u001b[39mappend(pos)\n",
      "File \u001b[1;32mc:\\Anaconda3\\Lib\\site-packages\\keyboard\\__init__.py:417\u001b[0m, in \u001b[0;36mis_pressed\u001b[1;34m(hotkey)\u001b[0m\n\u001b[0;32m    414\u001b[0m     \u001b[38;5;28;01mwith\u001b[39;00m _pressed_events_lock:\n\u001b[0;32m    415\u001b[0m         \u001b[38;5;28;01mreturn\u001b[39;00m hotkey \u001b[38;5;129;01min\u001b[39;00m _pressed_events\n\u001b[1;32m--> 417\u001b[0m steps \u001b[38;5;241m=\u001b[39m parse_hotkey(hotkey)\n\u001b[0;32m    418\u001b[0m \u001b[38;5;28;01mif\u001b[39;00m \u001b[38;5;28mlen\u001b[39m(steps) \u001b[38;5;241m>\u001b[39m \u001b[38;5;241m1\u001b[39m:\n\u001b[0;32m    419\u001b[0m     \u001b[38;5;28;01mraise\u001b[39;00m \u001b[38;5;167;01mValueError\u001b[39;00m(\u001b[38;5;124m\"\u001b[39m\u001b[38;5;124mImpossible to check if multi-step hotkeys are pressed (`a+b` is ok, `a, b` isn\u001b[39m\u001b[38;5;124m'\u001b[39m\u001b[38;5;124mt).\u001b[39m\u001b[38;5;124m\"\u001b[39m)\n",
      "File \u001b[1;32mc:\\Anaconda3\\Lib\\site-packages\\keyboard\\__init__.py:356\u001b[0m, in \u001b[0;36mparse_hotkey\u001b[1;34m(hotkey)\u001b[0m\n\u001b[0;32m    353\u001b[0m     \u001b[38;5;28;01mreturn\u001b[39;00m hotkey\n\u001b[0;32m    355\u001b[0m steps \u001b[38;5;241m=\u001b[39m []\n\u001b[1;32m--> 356\u001b[0m \u001b[38;5;28;01mfor\u001b[39;00m step \u001b[38;5;129;01min\u001b[39;00m _re\u001b[38;5;241m.\u001b[39msplit(\u001b[38;5;124mr\u001b[39m\u001b[38;5;124m'\u001b[39m\u001b[38;5;124m,\u001b[39m\u001b[38;5;124m\\\u001b[39m\u001b[38;5;124ms?\u001b[39m\u001b[38;5;124m'\u001b[39m, hotkey):\n\u001b[0;32m    357\u001b[0m     keys \u001b[38;5;241m=\u001b[39m _re\u001b[38;5;241m.\u001b[39msplit(\u001b[38;5;124mr\u001b[39m\u001b[38;5;124m'\u001b[39m\u001b[38;5;124m\\\u001b[39m\u001b[38;5;124ms?\u001b[39m\u001b[38;5;124m\\\u001b[39m\u001b[38;5;124m+\u001b[39m\u001b[38;5;124m\\\u001b[39m\u001b[38;5;124ms?\u001b[39m\u001b[38;5;124m'\u001b[39m, step)\n\u001b[0;32m    358\u001b[0m     steps\u001b[38;5;241m.\u001b[39mappend(\u001b[38;5;28mtuple\u001b[39m(key_to_scan_codes(key) \u001b[38;5;28;01mfor\u001b[39;00m key \u001b[38;5;129;01min\u001b[39;00m keys))\n",
      "File \u001b[1;32mc:\\Anaconda3\\Lib\\re\\__init__.py:207\u001b[0m, in \u001b[0;36msplit\u001b[1;34m(pattern, string, maxsplit, flags)\u001b[0m\n\u001b[0;32m    199\u001b[0m \u001b[38;5;28;01mdef\u001b[39;00m \u001b[38;5;21msplit\u001b[39m(pattern, string, maxsplit\u001b[38;5;241m=\u001b[39m\u001b[38;5;241m0\u001b[39m, flags\u001b[38;5;241m=\u001b[39m\u001b[38;5;241m0\u001b[39m):\n\u001b[0;32m    200\u001b[0m \u001b[38;5;250m    \u001b[39m\u001b[38;5;124;03m\"\"\"Split the source string by the occurrences of the pattern,\u001b[39;00m\n\u001b[0;32m    201\u001b[0m \u001b[38;5;124;03m    returning a list containing the resulting substrings.  If\u001b[39;00m\n\u001b[0;32m    202\u001b[0m \u001b[38;5;124;03m    capturing parentheses are used in pattern, then the text of all\u001b[39;00m\n\u001b[1;32m   (...)\u001b[0m\n\u001b[0;32m    205\u001b[0m \u001b[38;5;124;03m    and the remainder of the string is returned as the final element\u001b[39;00m\n\u001b[0;32m    206\u001b[0m \u001b[38;5;124;03m    of the list.\"\"\"\u001b[39;00m\n\u001b[1;32m--> 207\u001b[0m     \u001b[38;5;28;01mreturn\u001b[39;00m _compile(pattern, flags)\u001b[38;5;241m.\u001b[39msplit(string, maxsplit)\n",
      "\u001b[1;31mKeyboardInterrupt\u001b[0m: "
     ]
    }
   ],
   "source": [
    "pos_list=[]\n",
    "while True:   \n",
    "    while True:\n",
    "        if keyboard.is_pressed('F3'): \n",
    "            pos = pag.position()\n",
    "            pos_list.append(pos)\n",
    "            print(pos)\n",
    "            break\n",
    "    while True:\n",
    "        if keyboard.is_pressed('F4'): \n",
    "            break\n"
   ]
  },
  {
   "cell_type": "code",
   "execution_count": 53,
   "metadata": {},
   "outputs": [],
   "source": [
    "while True:\n",
    "    if keyboard.is_pressed('F4'): \n",
    "        break\n",
    "    \n",
    "pag.click(pos_list[0]) #로그인 버튼 클릭\n",
    "time.sleep(1)\n",
    "\n",
    "pag.click(pos_list[1]) #id 입력\n",
    "time.sleep(1)\n",
    "pag.typewrite(my_id, interval=0.1)\n",
    "\n",
    "pag.click(pos_list[2]) #pw 입력\n",
    "pag.typewrite(my_pw, interval=0.1) \n",
    "time.sleep(1)\n",
    "pag.click(pos_list[3]) #로그인 버튼 클릭"
   ]
  }
 ],
 "metadata": {
  "kernelspec": {
   "display_name": "Python 3",
   "language": "python",
   "name": "python3"
  },
  "language_info": {
   "codemirror_mode": {
    "name": "ipython",
    "version": 3
   },
   "file_extension": ".py",
   "mimetype": "text/x-python",
   "name": "python",
   "nbconvert_exporter": "python",
   "pygments_lexer": "ipython3",
   "version": "3.12.4"
  }
 },
 "nbformat": 4,
 "nbformat_minor": 2
}
