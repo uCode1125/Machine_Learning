{
 "cells": [
  {
   "cell_type": "code",
   "execution_count": null,
   "metadata": {},
   "outputs": [],
   "source": [
    "#1 네이버 버튼 클릭\n",
    "#2 경고창 발생 여부를 확인\n",
    "#3-1 발생 - 확인버튼 1번으로 \n",
    "#3-2 미발생 - 끝"
   ]
  },
  {
   "cell_type": "code",
   "execution_count": 12,
   "metadata": {},
   "outputs": [],
   "source": [
    "import pyautogui as pag\n",
    "from PIL import ImageGrab\n",
    "import keyboard\n",
    "from functools import partial"
   ]
  },
  {
   "cell_type": "code",
   "execution_count": 4,
   "metadata": {},
   "outputs": [
    {
     "name": "stdout",
     "output_type": "stream",
     "text": [
      "Point(x=2749, y=485)\n"
     ]
    }
   ],
   "source": [
    "pos = pag.position()\n",
    "print(pos)"
   ]
  },
  {
   "cell_type": "code",
   "execution_count": 6,
   "metadata": {},
   "outputs": [],
   "source": [
    "naver_pos = pos"
   ]
  },
  {
   "cell_type": "code",
   "execution_count": 7,
   "metadata": {},
   "outputs": [],
   "source": [
    "pag.click(naver_pos)"
   ]
  },
  {
   "cell_type": "code",
   "execution_count": 14,
   "metadata": {},
   "outputs": [
    {
     "name": "stdout",
     "output_type": "stream",
     "text": [
      "Point(x=2735, y=487)\n",
      "(255, 255, 255)\n",
      "Point(x=3160, y=469)\n",
      "(255, 255, 255)\n"
     ]
    },
    {
     "ename": "KeyboardInterrupt",
     "evalue": "",
     "output_type": "error",
     "traceback": [
      "\u001b[1;31m---------------------------------------------------------------------------\u001b[0m",
      "\u001b[1;31mKeyboardInterrupt\u001b[0m                         Traceback (most recent call last)",
      "Cell \u001b[1;32mIn[14], line 3\u001b[0m\n\u001b[0;32m      1\u001b[0m \u001b[38;5;28;01mwhile\u001b[39;00m \u001b[38;5;28;01mTrue\u001b[39;00m:\n\u001b[0;32m      2\u001b[0m     \u001b[38;5;28;01mwhile\u001b[39;00m \u001b[38;5;28;01mTrue\u001b[39;00m:\n\u001b[1;32m----> 3\u001b[0m         \u001b[38;5;28;01mif\u001b[39;00m keyboard\u001b[38;5;241m.\u001b[39mis_pressed(\u001b[38;5;124m'\u001b[39m\u001b[38;5;124mF3\u001b[39m\u001b[38;5;124m'\u001b[39m):\n\u001b[0;32m      4\u001b[0m             pos \u001b[38;5;241m=\u001b[39m pag\u001b[38;5;241m.\u001b[39mposition()\n\u001b[0;32m      5\u001b[0m             \u001b[38;5;28mprint\u001b[39m(pos)\n",
      "File \u001b[1;32mc:\\Anaconda3\\Lib\\site-packages\\keyboard\\__init__.py:417\u001b[0m, in \u001b[0;36mis_pressed\u001b[1;34m(hotkey)\u001b[0m\n\u001b[0;32m    414\u001b[0m     \u001b[38;5;28;01mwith\u001b[39;00m _pressed_events_lock:\n\u001b[0;32m    415\u001b[0m         \u001b[38;5;28;01mreturn\u001b[39;00m hotkey \u001b[38;5;129;01min\u001b[39;00m _pressed_events\n\u001b[1;32m--> 417\u001b[0m steps \u001b[38;5;241m=\u001b[39m parse_hotkey(hotkey)\n\u001b[0;32m    418\u001b[0m \u001b[38;5;28;01mif\u001b[39;00m \u001b[38;5;28mlen\u001b[39m(steps) \u001b[38;5;241m>\u001b[39m \u001b[38;5;241m1\u001b[39m:\n\u001b[0;32m    419\u001b[0m     \u001b[38;5;28;01mraise\u001b[39;00m \u001b[38;5;167;01mValueError\u001b[39;00m(\u001b[38;5;124m\"\u001b[39m\u001b[38;5;124mImpossible to check if multi-step hotkeys are pressed (`a+b` is ok, `a, b` isn\u001b[39m\u001b[38;5;124m'\u001b[39m\u001b[38;5;124mt).\u001b[39m\u001b[38;5;124m\"\u001b[39m)\n",
      "File \u001b[1;32mc:\\Anaconda3\\Lib\\site-packages\\keyboard\\__init__.py:328\u001b[0m, in \u001b[0;36mparse_hotkey\u001b[1;34m(hotkey)\u001b[0m\n\u001b[0;32m    325\u001b[0m     \u001b[38;5;28;01melse\u001b[39;00m:\n\u001b[0;32m    326\u001b[0m         \u001b[38;5;28;01mreturn\u001b[39;00m t\n\u001b[1;32m--> 328\u001b[0m \u001b[38;5;28;01mdef\u001b[39;00m \u001b[38;5;21mparse_hotkey\u001b[39m(hotkey):\n\u001b[0;32m    329\u001b[0m \u001b[38;5;250m    \u001b[39m\u001b[38;5;124;03m\"\"\"\u001b[39;00m\n\u001b[0;32m    330\u001b[0m \u001b[38;5;124;03m    Parses a user-provided hotkey into nested tuples representing the\u001b[39;00m\n\u001b[0;32m    331\u001b[0m \u001b[38;5;124;03m    parsed structure, with the bottom values being lists of scan codes.\u001b[39;00m\n\u001b[1;32m   (...)\u001b[0m\n\u001b[0;32m    341\u001b[0m \u001b[38;5;124;03m        # ((alt_codes, shift_codes, a_codes), (alt_codes, b_codes), (c_codes,))\u001b[39;00m\n\u001b[0;32m    342\u001b[0m \u001b[38;5;124;03m    \"\"\"\u001b[39;00m\n\u001b[0;32m    343\u001b[0m     \u001b[38;5;28;01mif\u001b[39;00m _is_number(hotkey) \u001b[38;5;129;01mor\u001b[39;00m \u001b[38;5;28mlen\u001b[39m(hotkey) \u001b[38;5;241m==\u001b[39m \u001b[38;5;241m1\u001b[39m:\n",
      "\u001b[1;31mKeyboardInterrupt\u001b[0m: "
     ]
    }
   ],
   "source": [
    "while True:\n",
    "    while True:\n",
    "        if keyboard.is_pressed('F3'):\n",
    "            pos = pag.position()\n",
    "            print(pos)\n",
    "            ImageGrab.grab = partial(ImageGrab.grab, all_screens=True)\n",
    "            screen = ImageGrab.grab()\n",
    "            rgb = screen.getpixel(pos)\n",
    "            print(rgb)\n",
    "            break\n",
    "    while True:\n",
    "        if keyboard.is_pressed('F4'):\n",
    "            break\n"
   ]
  },
  {
   "cell_type": "code",
   "execution_count": 17,
   "metadata": {},
   "outputs": [],
   "source": [
    "ok_pos = (2735,487)\n",
    "ok_rgb = (255, 255, 255)"
   ]
  },
  {
   "cell_type": "code",
   "execution_count": null,
   "metadata": {},
   "outputs": [],
   "source": [
    "screen = ImageGrab.grab()\n",
    "if screen.getpixel(ok_pos) == ok_rgb:\n",
    "    pag.click(ok_pos)\n",
    "else: #미발생\n",
    "    pass"
   ]
  }
 ],
 "metadata": {
  "kernelspec": {
   "display_name": "Python 3",
   "language": "python",
   "name": "python3"
  },
  "language_info": {
   "codemirror_mode": {
    "name": "ipython",
    "version": 3
   },
   "file_extension": ".py",
   "mimetype": "text/x-python",
   "name": "python",
   "nbconvert_exporter": "python",
   "pygments_lexer": "ipython3",
   "version": "3.12.4"
  }
 },
 "nbformat": 4,
 "nbformat_minor": 2
}
